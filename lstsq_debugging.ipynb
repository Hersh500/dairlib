{
 "cells": [
  {
   "cell_type": "code",
   "execution_count": 6,
   "metadata": {},
   "outputs": [],
   "source": [
    "import numpy as np\n",
    "import scipy.linalg\n",
    "import matplotlib.pyplot as plt\n",
    "%matplotlib notebook"
   ]
  },
  {
   "cell_type": "markdown",
   "metadata": {},
   "source": [
    "## Reading Data from Estimator Logs"
   ]
  },
  {
   "cell_type": "markdown",
   "metadata": {},
   "source": [
    "Replace this part with whatever logging scheme we're using"
   ]
  },
  {
   "cell_type": "code",
   "execution_count": 76,
   "metadata": {},
   "outputs": [],
   "source": [
    "# read the file\n",
    "fname = \"log3_continuous.txt\"\n",
    "f = open(fname)\n",
    "lines = f.readlines()\n",
    "f.close()"
   ]
  },
  {
   "cell_type": "code",
   "execution_count": 78,
   "metadata": {},
   "outputs": [],
   "source": [
    "class LoggedInfo:\n",
    "    def __init__(self, states, foot_locs, inputs, ones, X_s, y_s):\n",
    "        self.states = states\n",
    "        self.foot_locs = foot_locs\n",
    "        self.inputs = inputs\n",
    "        self.ones = ones\n",
    "        self.X_s = X_s\n",
    "        self.y_s = y_s\n",
    "        \n",
    "# get the A, B, and b matrices\n",
    "def get_matrix(lines, cur_pointer):\n",
    "    tmp = []\n",
    "    while cur_pointer < len(lines) and lines[cur_pointer][0] != \"#\":\n",
    "        tmp.append(lines[cur_pointer])\n",
    "        cur_pointer += 1\n",
    "    \n",
    "    matrix = []\n",
    "    for line in tmp:\n",
    "        l_split = line.strip(\"\\n\").split(\" \")\n",
    "        matrix.append([float(s) for s in l_split if s != \"\"])\n",
    "    return matrix, cur_pointer+1\n",
    "\n",
    "## Assumes that you start from the first line of \n",
    "def get_logged_states_and_matrices(lines, cur_pointer):\n",
    "    p = cur_pointer\n",
    "    states = []\n",
    "    foot_locs = []\n",
    "    inputs = []\n",
    "    ones = []  # this is just for convenience\n",
    "    X_s = []\n",
    "    y_s = []\n",
    "    while p < len(lines):\n",
    "        # get state shit\n",
    "        vec_row, p = get_matrix(lines, p)\n",
    "        vec_row = (np.array(vec_row).T)[0]\n",
    "        states.append(vec_row[0:12])\n",
    "        foot_locs.append(vec_row[12:15])\n",
    "        # change to 20 for pitch torque\n",
    "        inputs.append(vec_row[15:20])\n",
    "        ones.append(vec_row[20:])\n",
    "        \n",
    "        # get X_\n",
    "        X_, p = get_matrix(lines, p)\n",
    "        X_s.append(np.array(X_))\n",
    "\n",
    "        # get y_\n",
    "        y_, p = get_matrix(lines, p)\n",
    "        y_s.append(np.array(y_))\n",
    "\n",
    "        if p + 100 + 100 + 31 >= len(lines):\n",
    "            break\n",
    "    return LoggedInfo(states, foot_locs, inputs, ones, X_s, y_s)"
   ]
  },
  {
   "cell_type": "code",
   "execution_count": 79,
   "metadata": {},
   "outputs": [],
   "source": [
    "A, cp = get_matrix(lines, 1)\n",
    "B, cp = get_matrix(lines, cp)\n",
    "b, cp = get_matrix(lines, cp)\n",
    "logged_stuff = get_logged_states_and_matrices(lines, cp)"
   ]
  },
  {
   "cell_type": "code",
   "execution_count": 80,
   "metadata": {},
   "outputs": [],
   "source": [
    "states = logged_stuff.states\n",
    "inputs = logged_stuff.inputs\n",
    "foot_locs = logged_stuff.foot_locs\n",
    "ones = logged_stuff.ones\n",
    "X_s = logged_stuff.X_s\n",
    "y_s = logged_stuff.y_s\n",
    "A = np.array(A)\n",
    "B = np.array(B)\n",
    "b = np.array(b).squeeze()"
   ]
  },
  {
   "cell_type": "markdown",
   "metadata": {},
   "source": [
    "## Function Definitions for Least Squares Estimator"
   ]
  },
  {
   "cell_type": "code",
   "execution_count": null,
   "metadata": {},
   "outputs": [],
   "source": [
    "# container class for dynamics\n",
    "class LinearDynamics:\n",
    "    def __init__(self, A, B, b):\n",
    "        self.A = A\n",
    "        self.B = B\n",
    "        self.b = b\n",
    "        \n",
    "    def forward(self, x, u):\n",
    "        return self.A@x + self.B@u + self.b\n",
    "    \n",
    "\"\"\"\n",
    "Estimates the residual dynamics in a dense way\n",
    "- x: array(T, nx_ + 3) the single rigid body state including the stance foot location \n",
    "- u: array(T, nu_) the contact forces at time T\n",
    "- xdot: array(T, nx_) the state derivatives\n",
    "- stance_mode array(T, 1): which stance mode we are in\n",
    "- dt (double): the time between states x\n",
    "\"\"\"\n",
    "def dense_residual_estimator(x, u, xdot, stance_modes, dynamics, dt = 1/2000.0):\n",
    "    x = np.array(x)\n",
    "    u = np.array(u)\n",
    "    xdot = np.array(xdot)\n",
    "    \n",
    "    assert x.shape[0] == u.shape[0] and x.shape[0] == xdot.shape[0], \"data matrices must be same time-length\"\n",
    "\n",
    "    \n",
    "    T = x.shape[0]\n",
    "    X = np.zeros((T, x.shape[1] + u.shape[1] + 1))\n",
    "    y = np.zeros((T, xdot.shape[1]))\n",
    "    \n",
    "    for t in range(T):\n",
    "        state = x[t]\n",
    "        input = u[t]\n",
    "        deriv_nom = dynamics[stance_modes[t]].forward(state, input)\n",
    "        X[t] = np.concatenate([state, input, np.ones(1)])\n",
    "        y[t] = xdot[t] - deriv_nom\n",
    "    \n",
    "    X_c = X[:-1,:]\n",
    "    y_c = y[:-1,:]\n",
    "    soln = (np.linalg.pinv(X_c.T @ X_c + 0.1 * np.eye(X_c.shape[1])) @ X_c.T @ y_c).T\n",
    "    A_hat = soln[:,:x.shape[1]]\n",
    "    B_hat = soln[:,x.shape[1]:x.shape[1] + u.shape[1]]\n",
    "    b_hat = soln[:,-1]\n",
    "    return LinearDynamics(A_hat, B_hat, b_hat)\n",
    "\n",
    "\n",
    "\"\"\"\n",
    "Estimates the residual dynamics in a sparse way.\n",
    "Requires the states to be ordered in a particular way.\n",
    "- x: array(T, 15) the single rigid body state including the stance foot location \n",
    "- u: array(T, 5) the contact forces at time T\n",
    "- xdot: array(T, 12) the state derivatives\n",
    "- stance_mode array(T, 1): which stance mode we are in\n",
    "- dt (double): the time between states x\n",
    "\"\"\"\n",
    "def sparse_residual_estimator(x, u, xdot, stance_modes, dynamics, dt = 1/2000.0):\n",
    "    x = np.array(x)\n",
    "    u = np.array(u)\n",
    "    xdot = np.array(xdot)\n",
    "    assert x.shape[1] == 15\n",
    "    assert u.shape[1] == 5\n",
    "    assert xdot.shape[1] == 12\n",
    "    assert x.shape[0] == u.shape[0] and x.shape[0] == xdot.shape[0]\n",
    "    \n",
    "    T = x.shape[0]\n",
    "    X1 = np.zeros((T, 3))\n",
    "    X2 = np.zeros((T, 3))\n",
    "    X3 = np.zeros((T, 4))\n",
    "    X4 = np.zeros((T, 12))\n",
    "    \n",
    "    y1 = np.zeros((T, 3))\n",
    "    y2 = np.zeros((T, 3))\n",
    "    y3 = np.zeros((T, 3))\n",
    "    y4 = np.zeros((T, 3))\n",
    "    for t in range(T):\n",
    "        state = x[t]\n",
    "        input = u[t]\n",
    "        deriv_nom = dynamics[stance_modes[0]].forward(state, input)\n",
    "        y1[t] = xdot[t][0:3] - deriv_nom[0:3]\n",
    "        y2[t] = xdot[t][3:6] - deriv_nom[3:6]\n",
    "        y3[t] = xdot[t][6:9] - deriv_nom[6:9]\n",
    "        y4[t] = xdot[t][9:12] - deriv_nom[9:12]\n",
    "        \n",
    "        X1[t] = state[6:9]\n",
    "        X2[t] = state[9:12]\n",
    "        X3[t] = np.concatenate([input[0:3], np.ones(1)])\n",
    "        X4[t] = np.concatenate([state[0:3], state[12:15], input[0:5], np.ones(1)])\n",
    "        \n",
    "    X1_c = X1[:-1,:]\n",
    "    X2_c = X2[:-1,:]\n",
    "    X3_c = X3[:-1,:]\n",
    "    X4_c = X4[:-1,:]\n",
    "    \n",
    "    y1_c = y1[:-1,:]\n",
    "    y2_c = y2[:-1,:]\n",
    "    y3_c = y3[:-1,:]\n",
    "    y4_c = y4[:-1,:]\n",
    "    \n",
    "    soln1 = (np.linalg.pinv(X1_c.T @ X1_c) @ X1_c.T @ y1_c).T\n",
    "    soln2 = (np.linalg.pinv(X2_c.T @ X2_c) @ X2_c.T @ y2_c).T\n",
    "    soln3 = (np.linalg.pinv(X3_c.T @ X3_c) @ X3_c.T @ y3_c).T\n",
    "    soln4 = (np.linalg.pinv(X4_c.T @ X4_c) @ X4_c.T @ y4_c).T\n",
    "    \n",
    "    A = np.zeros((12, 15))\n",
    "    B = np.zeros((12, 5))\n",
    "    b = np.zeros(12)\n",
    "    \n",
    "    A[0:3,6:9] = soln1\n",
    "    A[3:6, 9:12] = soln2\n",
    "    A[9:12, 0:3] = soln4[0:3, 0:3]\n",
    "    A[9:12, 12:15] = soln4[0:3, 3:6]\n",
    "    \n",
    "    B[6:9, 0:3] = soln3[0:3, 0:3]\n",
    "    B[9:12, 0:3] = soln4[0:3, 6:9]\n",
    "    B[9:12, 3:4] = soln4[0:3, 9:10]\n",
    "    B[9:12, 4:5] = soln4[0:3, 10:11]\n",
    "    \n",
    "    b[6:9] = soln3[0:3, 3:4].squeeze()\n",
    "    b[9:12] = soln4[0:3, 11:12].squeeze()\n",
    "    \n",
    "    return LinearDynamics(A, B, b)\n",
    "\n",
    "\n",
    "\"\"\"\n",
    "Evaluate the residual dynamics on a test set\n",
    "returns:\n",
    "- array of the norm of the error at each time step\n",
    "- residual x_dots\n",
    "- nominal x_dots\n",
    "\"\"\"\n",
    "def evaluate_residual_estimator(x, u, xdot, stance_modes, nominal_dynamics, residual_dynamics):\n",
    "    x = np.array(x)\n",
    "    u = np.array(u)\n",
    "    xdot = np.array(xdot)\n",
    "    \n",
    "    if x.shape[0] != u.shape[0] or x.shape[0] != xdot.shape[0]:\n",
    "        print(\"Error: all data must have the same first dimension\")\n",
    "    T = x.shape[0]\n",
    "    errors_res = np.zeros(T)\n",
    "    errors_nom = np.zeros(T)\n",
    "    residual_derivs = np.zeros((T, xdot.shape[1]))\n",
    "    nominal_derivs = np.zeros((T, xdot.shape[1]))\n",
    "    for t in range(T):\n",
    "        nominal_deriv = nominal_dynamics[stance_modes[t]].forward(x[t], u[t])\n",
    "        residual_deriv = residual_dynamics.forward(x[t], u[t])\n",
    "        errors_res[t] = np.linalg.norm(xdot[t] - (nominal_deriv + residual_deriv))\n",
    "        errors_nom[t] = np.linalg.norm(xdot[t] - nominal_deriv)\n",
    "        residual_derivs[t] = residual_deriv\n",
    "        nominal_derivs[t] = nominal_deriv\n",
    "    return errors_res, errors_nom, residual_derivs, nominal_derivs"
   ]
  },
  {
   "cell_type": "markdown",
   "metadata": {},
   "source": [
    "## Using Least Squares w/ Logged Data"
   ]
  },
  {
   "cell_type": "markdown",
   "metadata": {},
   "source": [
    "Getting the residual dynamics"
   ]
  },
  {
   "cell_type": "code",
   "execution_count": 141,
   "metadata": {},
   "outputs": [],
   "source": [
    "T = 200\n",
    "\n",
    "dynamics = [LinearDynamics(A, B, b)] # TODO: add the other stance mode to this \n",
    "modes = [0 for i in range(T)]\n",
    "\n",
    "derivs = [(states[t+1] - states[t]) * 2000 for t in range(T)]\n",
    "states_and_steps = np.hstack([states, foot_locs])\n",
    "residual_dynamics = sparse_residual_estimator(states_and_steps[:T], inputs[:T], derivs, modes, dynamics)"
   ]
  },
  {
   "cell_type": "markdown",
   "metadata": {},
   "source": [
    "Evaluating Residuals on data"
   ]
  },
  {
   "cell_type": "code",
   "execution_count": 142,
   "metadata": {},
   "outputs": [],
   "source": [
    "T = 200\n",
    "modes = [0 for i in range(T)]\n",
    "derivs = [(states[t+1] - states[t]) * 2000 for t in range(T)]\n",
    "states_and_steps = np.hstack([states, foot_locs])\n",
    "\n",
    "errors_res, errors_nom, ress, noms = evaluate_residual_estimator(states_and_steps[:T], inputs[:T], \n",
    "                                                 derivs, modes, dynamics, residual_dynamics)"
   ]
  },
  {
   "cell_type": "code",
   "execution_count": 143,
   "metadata": {},
   "outputs": [
    {
     "data": {
      "text/plain": [
       "<matplotlib.legend.Legend at 0x624344450>"
      ]
     },
     "execution_count": 143,
     "metadata": {},
     "output_type": "execute_result"
    },
    {
     "data": {
      "image/png": "[encoded data removed]",
      "text/plain": [
       "<Figure size 432x288 with 1 Axes>"
      ]
     },
     "metadata": {
      "needs_background": "light"
     },
     "output_type": "display_data"
    }
   ],
   "source": [
    "fig = plt.figure()\n",
    "ax = fig.gca()\n",
    "ax.plot(errors_res)\n",
    "ax.plot(errors_nom)\n",
    "ax.legend([\"Errors with residual\", \"Error with nominal\"])"
   ]
  },
  {
   "cell_type": "code",
   "execution_count": null,
   "metadata": {},
   "outputs": [],
   "source": []
  }
 ],
 "metadata": {
  "kernelspec": {
   "display_name": "Python 3",
   "language": "python",
   "name": "python3"
  },
  "language_info": {
   "codemirror_mode": {
    "name": "ipython",
    "version": 3
   },
   "file_extension": ".py",
   "mimetype": "text/x-python",
   "name": "python",
   "nbconvert_exporter": "python",
   "pygments_lexer": "ipython3",
   "version": "3.7.4"
  }
 },
 "nbformat": 4,
 "nbformat_minor": 4
}
