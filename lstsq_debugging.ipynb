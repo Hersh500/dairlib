{
 "cells": [
  {
   "cell_type": "code",
   "execution_count": 206,
   "metadata": {},
   "outputs": [],
   "source": [
    "import numpy as np\n",
    "import scipy.linalg\n",
    "import matplotlib.pyplot as plt\n",
    "%matplotlib notebook"
   ]
  },
  {
   "cell_type": "code",
   "execution_count": 207,
   "metadata": {},
   "outputs": [],
   "source": [
    "# read the file\n",
    "fname = \"log2_continuous.txt\"\n",
    "f = open(fname)\n",
    "lines = f.readlines()\n",
    "f.close()"
   ]
  },
  {
   "cell_type": "code",
   "execution_count": 208,
   "metadata": {},
   "outputs": [],
   "source": [
    "class LoggedInfo:\n",
    "    def __init__(self, states, foot_locs, inputs, ones, X_s, y_s):\n",
    "        self.states = states\n",
    "        self.foot_locs = foot_locs\n",
    "        self.inputs = inputs\n",
    "        self.ones = ones\n",
    "        self.X_s = X_s\n",
    "        self.y_s = y_s\n",
    "        \n",
    "# get the A, B, and b matrices\n",
    "def get_matrix(lines, cur_pointer):\n",
    "    tmp = []\n",
    "    while cur_pointer < len(lines) and lines[cur_pointer][0] != \"#\":\n",
    "        tmp.append(lines[cur_pointer])\n",
    "        cur_pointer += 1\n",
    "    \n",
    "    matrix = []\n",
    "    for line in tmp:\n",
    "        l_split = line.strip(\"\\n\").split(\" \")\n",
    "        matrix.append([float(s) for s in l_split if s != \"\"])\n",
    "    return matrix, cur_pointer+1\n",
    "\n",
    "## Assumes that you start from the first line of \n",
    "def get_logged_states_and_matrices(lines, cur_pointer):\n",
    "    p = cur_pointer\n",
    "    states = []\n",
    "    foot_locs = []\n",
    "    inputs = []\n",
    "    ones = []  # this is just for convenience\n",
    "    X_s = []\n",
    "    y_s = []\n",
    "    while p < len(lines):\n",
    "        # get state shit\n",
    "        vec_row, p = get_matrix(lines, p)\n",
    "        vec_row = (np.array(vec_row).T)[0]\n",
    "        states.append(vec_row[0:12])\n",
    "        foot_locs.append(vec_row[12:15])\n",
    "        inputs.append(vec_row[15:19])\n",
    "        ones.append(vec_row[19:])\n",
    "        \n",
    "        # get X_\n",
    "        X_, p = get_matrix(lines, p)\n",
    "        X_s.append(np.array(X_))\n",
    "\n",
    "        # get y_\n",
    "        y_, p = get_matrix(lines, p)\n",
    "        y_s.append(np.array(y_))\n",
    "\n",
    "        if p + 100 + 100 + 31 >= len(lines):\n",
    "            break\n",
    "    return LoggedInfo(states, foot_locs, inputs, ones, X_s, y_s)"
   ]
  },
  {
   "cell_type": "code",
   "execution_count": 209,
   "metadata": {},
   "outputs": [],
   "source": [
    "A, cp = get_matrix(lines, 1)\n",
    "B, cp = get_matrix(lines, cp)\n",
    "b, cp = get_matrix(lines, cp)\n",
    "logged_stuff = get_logged_states_and_matrices(lines, cp)"
   ]
  },
  {
   "cell_type": "code",
   "execution_count": 210,
   "metadata": {},
   "outputs": [
    {
     "name": "stdout",
     "output_type": "stream",
     "text": [
      "[[0.0, 0.0, 0.0, 0.0], [0.0, 0.0, 0.0, 0.0], [0.0, 0.0, 0.0, 0.0], [0.0, 0.0, 0.0, 0.0], [0.0, 0.0, 0.0, 0.0], [0.0, 0.0, 0.0, 0.0], [0.0333091, 0.0, 0.0, 0.0], [0.0, 0.0333091, 0.0, 0.0], [0.0, 0.0, 0.0333091, 0.0], [0.0, 0.76044, 0.0, 0.0], [-1.25818, 0.0, 0.0, 0.0], [0.0, 0.0, 0.0, 1.1236]]\n"
     ]
    }
   ],
   "source": [
    "print(B)"
   ]
  },
  {
   "cell_type": "code",
   "execution_count": 211,
   "metadata": {},
   "outputs": [
    {
     "name": "stdout",
     "output_type": "stream",
     "text": [
      "[[0.0, 0.0, 0.0, 0.0, 0.0, 0.0, 1.0, 0.0, 0.0, 0.0, 0.0, 0.0, 0.0, 0.0, 0.0], [0.0, 0.0, 0.0, 0.0, 0.0, 0.0, 0.0, 1.0, 0.0, 0.0, 0.0, 0.0, 0.0, 0.0, 0.0], [0.0, 0.0, 0.0, 0.0, 0.0, 0.0, 0.0, 0.0, 1.0, 0.0, 0.0, 0.0, 0.0, 0.0, 0.0], [0.0, 0.0, 0.0, 0.0, 0.0, 0.0, 0.0, 0.0, 0.0, 1.0, 0.0, 0.0, 0.0, 0.0, 0.0], [0.0, 0.0, 0.0, 0.0, 0.0, 0.0, 0.0, 0.0, 0.0, 0.0, 1.0, 0.0, 0.0, 0.0, 0.0], [0.0, 0.0, 0.0, 0.0, 0.0, 0.0, 0.0, 0.0, 0.0, 0.0, 0.0, 1.0, 0.0, 0.0, 0.0], [0.0, 0.0, 0.0, 0.0, 0.0, 0.0, 0.0, 0.0, 0.0, 0.0, 0.0, 0.0, 0.0, 0.0, 0.0], [0.0, 0.0, 0.0, 0.0, 0.0, 0.0, 0.0, 0.0, 0.0, 0.0, 0.0, 0.0, 0.0, 0.0, 0.0], [0.0, 0.0, 0.0, 0.0, 0.0, 0.0, 0.0, 0.0, 0.0, 0.0, 0.0, 0.0, 0.0, 0.0, 0.0], [0.0, -323.642, 0.0, 0.0, 0.0, 0.0, 0.0, 0.0, 0.0, 0.0, 0.0, 0.0, 0.0, 323.642, 0.0], [535.48, 0.0, 0.0, 0.0, 0.0, 0.0, 0.0, 0.0, 0.0, 0.0, 0.0, 0.0, -535.48, 0.0, 0.0], [0.0, 0.0, 0.0, 0.0, 0.0, 0.0, 0.0, 0.0, 0.0, 0.0, 0.0, 0.0, 0.0, 0.0, 0.0]]\n"
     ]
    }
   ],
   "source": [
    "print(A)"
   ]
  },
  {
   "cell_type": "code",
   "execution_count": 212,
   "metadata": {},
   "outputs": [],
   "source": [
    "states = logged_stuff.states\n",
    "inputs = logged_stuff.inputs\n",
    "foot_locs = logged_stuff.foot_locs\n",
    "ones = logged_stuff.ones\n",
    "X_s = logged_stuff.X_s\n",
    "y_s = logged_stuff.y_s\n",
    "A = np.array(A)\n",
    "B = np.array(B)\n",
    "b = np.array(b).squeeze()"
   ]
  },
  {
   "cell_type": "code",
   "execution_count": 13,
   "metadata": {},
   "outputs": [
    {
     "name": "stdout",
     "output_type": "stream",
     "text": [
      "[ 1.44476e-06  1.77440e-11  5.72000e-01  2.67611e-08  3.34059e-06\n",
      " -1.50560e-08  3.51666e-03  1.48848e-06  4.03165e-04  9.52683e-05\n",
      "  1.08480e-02 -6.49444e-05]\n",
      "[ 1.44476e-06 -8.77238e-03  1.23640e+01  1.00000e+00  1.44476e-06\n",
      "  1.44476e-06  1.44476e-06  1.44476e-06  1.44476e-06  1.44476e-06\n",
      "  1.44476e-06  1.44476e-06]\n",
      "[0. 0. 0. 0. 0. 0. 0. 0. 0. 0. 0. 0.]\n",
      "[ 3.51666000e-03  1.48848000e-06  4.03165000e-04  9.52683000e-05\n",
      "  1.08480000e-02 -6.49444000e-05  4.11833712e-01 -1.62176678e+00\n",
      "  2.48748636e-01 -1.11332793e+01 -1.08579298e+01 -2.36924543e-32]\n"
     ]
    }
   ],
   "source": [
    "idx = 1\n",
    "print(states[idx])\n",
    "print(X_s[idx][99][:12])\n",
    "print(y_s[idx][99])\n",
    "\n",
    "joined = np.concatenate([states[idx], foot_locs[idx]])\n",
    "print(A.dot(joined) + B.dot(inputs[idx]) + b)"
   ]
  },
  {
   "cell_type": "code",
   "execution_count": 15,
   "metadata": {},
   "outputs": [
    {
     "name": "stdout",
     "output_type": "stream",
     "text": [
      "[[ 0.00000000e+00  0.00000000e+00 -7.69917918e-03 -2.20195541e-06\n",
      "   0.00000000e+00  0.00000000e+00  0.00000000e+00  0.00000000e+00\n",
      "   0.00000000e+00]\n",
      " [ 0.00000000e+00  0.00000000e+00 -5.66791776e-03 -1.15426789e-06\n",
      "   0.00000000e+00  0.00000000e+00  0.00000000e+00  0.00000000e+00\n",
      "   0.00000000e+00]\n",
      " [ 0.00000000e+00  0.00000000e+00  6.45511228e-04 -2.79315174e-07\n",
      "   0.00000000e+00  0.00000000e+00  0.00000000e+00  0.00000000e+00\n",
      "   0.00000000e+00]\n",
      " [ 0.00000000e+00  0.00000000e+00 -1.03224063e-01 -2.06774479e-05\n",
      "   0.00000000e+00  0.00000000e+00  0.00000000e+00  0.00000000e+00\n",
      "   0.00000000e+00]\n",
      " [ 0.00000000e+00  0.00000000e+00 -3.32268400e-01 -7.54134840e-05\n",
      "   0.00000000e+00  0.00000000e+00  0.00000000e+00  0.00000000e+00\n",
      "   0.00000000e+00]\n",
      " [ 0.00000000e+00  0.00000000e+00 -2.25814784e-02 -4.94933866e-06\n",
      "   0.00000000e+00  0.00000000e+00  0.00000000e+00  0.00000000e+00\n",
      "   0.00000000e+00]\n",
      " [ 0.00000000e+00  0.00000000e+00 -1.93699597e+01 -6.22328307e-03\n",
      "   0.00000000e+00  0.00000000e+00  0.00000000e+00  0.00000000e+00\n",
      "   0.00000000e+00]\n",
      " [ 0.00000000e+00  0.00000000e+00 -5.27834301e+00 -1.13206328e-03\n",
      "   0.00000000e+00  0.00000000e+00  0.00000000e+00  0.00000000e+00\n",
      "   0.00000000e+00]\n",
      " [ 0.00000000e+00  0.00000000e+00  5.64099648e+00 -1.23694901e-04\n",
      "   0.00000000e+00  0.00000000e+00  0.00000000e+00  0.00000000e+00\n",
      "   0.00000000e+00]\n",
      " [ 0.00000000e+00  0.00000000e+00 -3.65265436e+02 -7.96708870e-02\n",
      "   0.00000000e+00  0.00000000e+00  0.00000000e+00  0.00000000e+00\n",
      "   0.00000000e+00]\n",
      " [ 0.00000000e+00  0.00000000e+00 -1.36159854e+03 -3.27279376e-01\n",
      "   0.00000000e+00  0.00000000e+00  0.00000000e+00  0.00000000e+00\n",
      "   0.00000000e+00]\n",
      " [ 0.00000000e+00  0.00000000e+00 -1.13299346e+02 -2.65392568e-02\n",
      "   0.00000000e+00  0.00000000e+00  0.00000000e+00  0.00000000e+00\n",
      "   0.00000000e+00]]\n"
     ]
    }
   ],
   "source": [
    "solve_idx = 105\n",
    "X_c = X_s[solve_idx][:99, :-11]\n",
    "y_c = y_s[solve_idx][:99]\n",
    "\n",
    "# soln = scipy.linalg.solve(X_c.T.dot(X_c) + np.eye(X_c.shape[1]) * 0.1, X_c.T.dot(y_c)).T\n",
    "soln = (np.linalg.pinv(X_c.T @ X_c) @ X_c.T @ y_c).T\n",
    "A_hat = soln[:,:15]\n",
    "B_hat = soln[:,15:15+4]\n",
    "b_hat = soln[:,-1]\n",
    "print(A_hat)"
   ]
  },
  {
   "cell_type": "code",
   "execution_count": 202,
   "metadata": {},
   "outputs": [
    {
     "name": "stdout",
     "output_type": "stream",
     "text": [
      "[3.58083719e-05 1.68486031e-05 7.39950381e-06 2.05279839e-05\n",
      " 2.26547264e-05]\n",
      "[ 2.82424e-05 -4.04471e-06  5.71984e-01 -7.39821e-05 -2.67601e-04]\n",
      "[ 2.61984e-05 -2.29849e-06  5.71986e-01 -4.16516e-05 -1.57322e-04]\n"
     ]
    }
   ],
   "source": [
    "idx = 5\n",
    "# print(states[idx])\n",
    "# print(X_s[idx][99][:12])\n",
    "# print(y_s[idx][99])\n",
    "\n",
    "joined = np.concatenate([states[idx], foot_locs[idx]])\n",
    "nom_and_res = A.dot(joined) + B.dot(inputs[idx]) + b + A_hat.dot(joined) + B_hat.dot(inputs[idx]) + b_hat\n",
    "print(nom_and_res[:5])\n",
    "print(states[idx+1][:5])\n",
    "print(states[idx][:5])"
   ]
  },
  {
   "cell_type": "code",
   "execution_count": 200,
   "metadata": {},
   "outputs": [
    {
     "name": "stdout",
     "output_type": "stream",
     "text": [
      "[[ 1.         0.         0.         0.         0.       ]\n",
      " [ 0.         1.         0.         0.         0.       ]\n",
      " [ 0.         0.         1.         0.         0.       ]\n",
      " [ 0.        -0.0161821  0.         1.         0.       ]\n",
      " [ 0.026774   0.         0.         0.         1.       ]]\n",
      "[[ 1.10136794e-03  3.03234726e-04  1.39777190e-02 -9.51748118e-02\n",
      "  -5.24095951e-03]\n",
      " [ 5.20310790e-03  2.13305996e-04  1.16705888e-02 -9.04072310e-02\n",
      "   3.32390173e-02]\n",
      " [ 6.73555137e-03  1.04249271e-04 -2.48355401e-01 -6.90001890e-03\n",
      "   7.60215637e-03]\n",
      " [-4.44675048e-03 -4.30475060e-03  9.08404415e-02 -1.07683545e+00\n",
      "   4.16315231e-02]\n",
      " [-4.48001798e-02 -1.09355800e-02 -2.44867981e-02 -8.91673973e-02\n",
      "  -9.52022939e-01]]\n"
     ]
    }
   ],
   "source": [
    "print(A[:5,:5])\n",
    "print(A_hat[:5,:5])"
   ]
  },
  {
   "cell_type": "code",
   "execution_count": 189,
   "metadata": {},
   "outputs": [
    {
     "name": "stdout",
     "output_type": "stream",
     "text": [
      "2.9476103716545757e+21\n"
     ]
    }
   ],
   "source": [
    "print(np.linalg.cond(X_c.T.dot(X_c)))"
   ]
  },
  {
   "cell_type": "code",
   "execution_count": 201,
   "metadata": {},
   "outputs": [
    {
     "name": "stdout",
     "output_type": "stream",
     "text": [
      "[array([0., 0., 0., 0.]), array([ 1.23640e+01, -4.86884e+01,  3.01982e+02, -2.10862e-32]), array([ 1.23640e+01, -4.86884e+01,  3.01982e+02, -2.10862e-32]), array([ 1.23640e+01, -4.86884e+01,  3.01982e+02, -2.10862e-32]), array([ 1.23640e+01, -4.86884e+01,  3.01982e+02, -2.10862e-32]), array([ 1.23640e+01, -4.86884e+01,  3.01982e+02, -2.10862e-32]), array([ 1.23640e+01, -4.86884e+01,  3.01982e+02, -2.10862e-32]), array([ 1.23640e+01, -4.86884e+01,  3.01982e+02, -2.10862e-32]), array([ 1.23640e+01, -4.86884e+01,  3.01982e+02, -2.10862e-32]), array([ 1.23640e+01, -4.86884e+01,  3.01982e+02, -2.10862e-32])]\n"
     ]
    }
   ],
   "source": [
    "print(inputs[0:10])"
   ]
  },
  {
   "cell_type": "code",
   "execution_count": 7,
   "metadata": {},
   "outputs": [
    {
     "name": "stdout",
     "output_type": "stream",
     "text": [
      "[ 7.00914e-04  1.19183e-06 -3.75794e-04  4.83094e-05  1.93984e-03\n",
      " -3.71709e-05  2.57574e+00  1.62610e+00 -1.54147e+00  1.13164e+01\n",
      "  1.75273e+01 -1.37955e-01]\n",
      "[ 1.44476e-06  1.77440e-11  5.72000e-01  2.67611e-08  3.34059e-06\n",
      " -1.50560e-08  3.51666e-03  1.48848e-06  4.03165e-04  9.52683e-05\n",
      "  1.08480e-02 -6.49444e-05]\n",
      "[ 3.55355e-06  1.35790e-09  5.72000e-01  9.85499e-08  9.73449e-06\n",
      " -6.61137e-08  5.01045e-03  3.65619e-06 -2.43187e-04  1.86832e-04\n",
      "  1.41826e-02 -1.33922e-04]\n"
     ]
    }
   ],
   "source": [
    "# check that y is constructed properly\n",
    "idx = 1\n",
    "y_ = y_s[idx]\n",
    "state = states[idx]\n",
    "foot_loc = foot_locs[idx]\n",
    "input = inputs[idx]\n",
    "\n",
    "# check that y_ is consistent from step to step.\n",
    "# print(y_[-1] + states[idx + 1])\n",
    "# print(A @ np.concatenate([state, foot_loc]) + B @ input + b - states[idx+1])\n",
    "# print(y_s[idx+1][-2])\n",
    "\n",
    "print(y_s[idx+1][-2] - y_s[idx][-1])\n",
    "print(states[idx])\n",
    "print(states[idx+1])"
   ]
  },
  {
   "cell_type": "code",
   "execution_count": 227,
   "metadata": {},
   "outputs": [],
   "source": [
    "## TRY this from scratch now with this data we have here\n",
    "size = 50\n",
    "X_new = np.zeros((size, 12 + 3 + 4 + 1))\n",
    "y_new = np.zeros((size, 12))\n",
    "\n",
    "for i in range(0, size):\n",
    "    state = states[idx]\n",
    "    foot_loc = foot_locs[idx]\n",
    "    input = inputs[idx]\n",
    "    \n",
    "    X_new[0:size-1] = X_new[1:size]\n",
    "    y_new[0:size-1] = y_new[1:size]\n",
    "    next_state_nom = A @ np.concatenate([state, foot_loc]) + B @ input + b\n",
    "    y_new[size-1] = -next_state_nom\n",
    "    X_new[size-1] = np.concatenate([state, foot_loc, input, np.ones(1)])\n",
    "    y_new[size-2] += state"
   ]
  },
  {
   "cell_type": "code",
   "execution_count": 228,
   "metadata": {},
   "outputs": [
    {
     "name": "stdout",
     "output_type": "stream",
     "text": [
      "0.06466666217992227\n",
      "0.06466666217992233\n"
     ]
    }
   ],
   "source": [
    "X_c = X_new[:-1]\n",
    "y_c = y_new[:-1]\n",
    "soln = (np.linalg.pinv(X_c.T @ X_c) @ X_c.T @ y_c).T\n",
    "A_hat = soln[:,:15]\n",
    "B_hat = soln[:,15:15+4]\n",
    "b_hat = soln[:,-1]\n",
    "\n",
    "idx = 5\n",
    "# print(states[idx])\n",
    "# print(X_s[idx][99][:12])\n",
    "# print(y_s[idx][99])\n",
    "\n",
    "joined = np.concatenate([states[idx], foot_locs[idx]])\n",
    "nom_and_res = A.dot(joined) + B.dot(inputs[idx]) + b + A_hat.dot(joined) + B_hat.dot(inputs[idx]) + b_hat\n",
    "print(np.linalg.norm(nom_and_res - states[idx + 1]))\n",
    "print(np.linalg.norm(states[idx] - states[idx + 1]))"
   ]
  },
  {
   "cell_type": "code",
   "execution_count": 8,
   "metadata": {},
   "outputs": [],
   "source": [
    "## doing it in the continuous time mode"
   ]
  },
  {
   "cell_type": "code",
   "execution_count": 214,
   "metadata": {},
   "outputs": [
    {
     "name": "stdout",
     "output_type": "stream",
     "text": [
      "at iteration 30 nominal_DERIV = [-5.97727000e-02 -2.89873000e-02 -5.63407000e-02 -7.31100000e-01\n",
      " -1.98913000e+00 -2.66136000e-01 -1.42722832e+00 -8.98423038e-01\n",
      "  8.49677915e-02 -4.23068012e+00  5.86780004e+01  1.46863509e+00]\n",
      "at iteration 30 y_new(size - 2) = [-5.30000000e-06  3.53000000e-05 -1.65930000e-03  3.86000000e-03\n",
      " -9.47000000e-03  1.00960000e-02  1.46582832e+00  1.04282304e+00\n",
      " -3.45876779e+00  2.58068012e+00 -8.89980004e+01 -1.84866351e+01]\n",
      "at iteration 30, y_s[i][size - 2] = [-4.36481e-06  3.47011e-05 -8.67966e-04  3.85693e-03 -9.53052e-03\n",
      "  1.01026e-02 -1.38864e+00 -7.54091e-01 -3.28884e+00 -3.84410e+01\n",
      "  1.88257e+01 -1.55497e+01]\n"
     ]
    },
    {
     "ename": "IndexError",
     "evalue": "list index out of range",
     "output_type": "error",
     "traceback": [
      "\u001b[0;31m---------------------------------------------------------------------------\u001b[0m",
      "\u001b[0;31mIndexError\u001b[0m                                Traceback (most recent call last)",
      "\u001b[0;32m<ipython-input-214-ac3ab5bdb9d7>\u001b[0m in \u001b[0;36m<module>\u001b[0;34m\u001b[0m\n\u001b[1;32m      6\u001b[0m \u001b[0;34m\u001b[0m\u001b[0m\n\u001b[1;32m      7\u001b[0m \u001b[0;32mfor\u001b[0m \u001b[0mi\u001b[0m \u001b[0;32min\u001b[0m \u001b[0mrange\u001b[0m\u001b[0;34m(\u001b[0m\u001b[0;36m0\u001b[0m\u001b[0;34m,\u001b[0m \u001b[0msize\u001b[0m\u001b[0;34m)\u001b[0m\u001b[0;34m:\u001b[0m\u001b[0;34m\u001b[0m\u001b[0;34m\u001b[0m\u001b[0m\n\u001b[0;32m----> 8\u001b[0;31m     \u001b[0mstate\u001b[0m \u001b[0;34m=\u001b[0m \u001b[0mstates\u001b[0m\u001b[0;34m[\u001b[0m\u001b[0mi\u001b[0m\u001b[0;34m]\u001b[0m\u001b[0;34m\u001b[0m\u001b[0;34m\u001b[0m\u001b[0m\n\u001b[0m\u001b[1;32m      9\u001b[0m     \u001b[0mfoot_loc\u001b[0m \u001b[0;34m=\u001b[0m \u001b[0mfoot_locs\u001b[0m\u001b[0;34m[\u001b[0m\u001b[0mi\u001b[0m\u001b[0;34m]\u001b[0m\u001b[0;34m\u001b[0m\u001b[0;34m\u001b[0m\u001b[0m\n\u001b[1;32m     10\u001b[0m     \u001b[0minput\u001b[0m \u001b[0;34m=\u001b[0m \u001b[0minputs\u001b[0m\u001b[0;34m[\u001b[0m\u001b[0mi\u001b[0m\u001b[0;34m]\u001b[0m\u001b[0;34m\u001b[0m\u001b[0;34m\u001b[0m\u001b[0m\n",
      "\u001b[0;31mIndexError\u001b[0m: list index out of range"
     ]
    }
   ],
   "source": [
    "size = 100\n",
    "X_new = np.zeros((size, 12 + 3 + 4 + 1))\n",
    "y_new = np.zeros((size, 12))\n",
    "prev_state = np.zeros(12 + 3)\n",
    "prev_input = np.zeros(4)\n",
    "\n",
    "for i in range(0, size):\n",
    "    state = states[i]\n",
    "    foot_loc = foot_locs[i]\n",
    "    input = inputs[i]\n",
    "    \n",
    "    X_new[0:size-1] = X_new[1:size]\n",
    "    y_new[0:size-1] = y_new[1:size]\n",
    "    next_state_nom = A @ prev_state + B @ prev_input + b\n",
    "    X_new[size-1] = np.concatenate([state, foot_loc, input, np.ones(1)])\n",
    "    y_new[size-2] = (state - prev_state[:12]) * 2000 - next_state_nom\n",
    "    if i == 30:\n",
    "        print(f\"at iteration {i} nominal_DERIV = {next_state_nom}\")\n",
    "        print(f\"at iteration {i} y_new(size - 2) = {y_new[size-2]}\")\n",
    "        print(f\"at iteration {i}, y_s[i][size - 2] = {y_s[i][size-2]}\")\n",
    "    prev_state = np.concatenate([state, foot_loc])\n",
    "    prev_input = input\n",
    "    \n",
    "X_c = X_new[:-1]\n",
    "y_c = y_new[:-1]\n",
    "soln = (np.linalg.pinv(X_c.T @ X_c) @ X_c.T @ y_c).T\n",
    "A_hat_p = soln[:,:15]\n",
    "B_hat_p = soln[:,15:15+4]\n",
    "b_hat_p = soln[:,-1]\n",
    "\n",
    "# nominal deriv: \n",
    "# -0.0597727\n",
    "# -0.0289873\n",
    "# -0.0563407\n",
    "#    -0.7311\n",
    "#   -1.98913\n",
    "#  -0.266136\n",
    "#    1.42723\n",
    "#   0.898425\n",
    "# -0.0849661\n",
    "#    36.7909\n",
    "#   -49.1431\n",
    "#   -1.46863"
   ]
  },
  {
   "cell_type": "code",
   "execution_count": 186,
   "metadata": {},
   "outputs": [
    {
     "name": "stdout",
     "output_type": "stream",
     "text": [
      "actual state derivative:\n",
      "[-5.8548e-02 -2.8458e-02 -5.4000e-02 -7.1286e-01 -1.8980e+00 -2.2384e-01\n",
      " -1.1432e+00 -3.2100e-01 -4.0252e+00 -1.0364e+01 -4.5340e+01 -1.5970e+01]\n",
      "estimated derivative\n",
      "[ -0.05982929  -0.02559971  -0.06536844  -0.61434015  -1.88583162\n",
      "  -0.17183876  -1.07135087  -0.18262476  -4.1301649   -5.11783003\n",
      " -22.02998992  -0.98384806]\n",
      "nominal derivative:\n",
      "[ -0.0582377   -0.0283699   -0.0538218   -0.713332    -1.88513\n",
      "  -0.231344    -0.43402423  -1.24240278   0.02757621 -12.10259227\n",
      "  21.21086665   0.52196726]\n"
     ]
    }
   ],
   "source": [
    "idx = 25\n",
    "print(\"actual state derivative:\")\n",
    "print((states[idx+1] - states[idx])*2000)\n",
    "print(\"estimated derivative\")\n",
    "print((A + A_hat_p) @ np.concatenate([states[idx], foot_locs[idx]]) + (B + B_hat_p) @ inputs[idx] + (b + b_hat_p))\n",
    "print(\"nominal derivative:\")\n",
    "print(A @ np.concatenate([states[idx], foot_locs[idx]]) + B @ inputs[idx] + b)"
   ]
  },
  {
   "cell_type": "code",
   "execution_count": 142,
   "metadata": {},
   "outputs": [
    {
     "name": "stdout",
     "output_type": "stream",
     "text": [
      "[-1.38185e-03 -6.13370e-04 -6.99198e-04 -1.61122e-02 -3.97816e-02\n",
      " -3.60880e-03 -5.03184e+00 -4.02162e+00 -2.78270e+00 -1.16586e+02\n",
      " -1.76600e+02 -1.60885e+01]\n",
      "[-1.38182000e-03 -6.13530000e-04  1.06000000e-04 -1.61110000e-02\n",
      " -3.97790000e-02 -3.60830000e-03 -5.85543371e+00 -7.78093216e-01\n",
      " -2.78259628e+00 -4.25363092e+01 -1.45487122e+02 -1.60884000e+01]\n",
      "[-1.38182000e-03 -6.13530000e-04  1.06000000e-04 -1.61110000e-02\n",
      " -3.97790000e-02 -3.60830000e-03 -5.85543371e+00 -7.78093216e-01\n",
      " -2.78259628e+00 -4.25363092e+01 -1.45487122e+02 -1.60884000e+01]\n"
     ]
    }
   ],
   "source": [
    "idx = 10\n",
    "state = states[idx]\n",
    "state_next = states[idx + 1]\n",
    "input = inputs[idx]\n",
    "foot_loc = foot_locs[idx]\n",
    "next_state_nom = A @ np.concatenate([state, foot_loc]) + B @ input + b\n",
    "\n",
    "print(y_s[99][idx])\n",
    "print(y_new[idx])\n",
    "print((state_next - state) * 2000 - next_state_nom)"
   ]
  },
  {
   "cell_type": "code",
   "execution_count": 143,
   "metadata": {},
   "outputs": [
    {
     "name": "stdout",
     "output_type": "stream",
     "text": [
      "actual state derivative:\n",
      "[-1.534512e-02 -1.057760e-02 -1.600000e-02 -2.832560e-01 -7.023800e-01\n",
      " -6.639800e-02 -5.443600e+00 -2.399860e+00 -2.782600e+00 -6.337200e+01\n",
      " -1.560160e+02 -1.608840e+01]\n",
      "estimated derivative\n",
      "[ 3.14120798e-02  1.04285993e-02  4.96715850e-02  1.87350340e-01\n",
      "  1.01076602e+00 -2.64972435e-02 -4.38584161e+00 -5.49049524e+00\n",
      " -7.97331140e-01 -1.32836290e+02 -1.66871165e+02 -2.15254805e+01]\n",
      "nominal derivative:\n",
      "[-1.39633000e-02 -9.96407000e-03 -1.61060000e-02 -2.67145000e-01\n",
      " -6.62601000e-01 -6.27897000e-02  4.11833712e-01 -1.62176678e+00\n",
      " -3.72260000e-06 -2.08356908e+01 -1.05288775e+01  3.68641924e-25]\n"
     ]
    }
   ],
   "source": [
    "X_c = X_s[100][:-1]\n",
    "y_c = y_s[100][:-1]\n",
    "soln = (np.linalg.pinv(X_c.T @ X_c) @ X_c.T @ y_c).T\n",
    "A_hat = soln[:,:15]\n",
    "B_hat = soln[:,15:15+4]\n",
    "b_hat = soln[:,-1]\n",
    "\n",
    "idx = 10\n",
    "print(\"actual state derivative:\")\n",
    "print((states[idx+1] - states[idx])*2000)\n",
    "print(\"estimated derivative\")\n",
    "print((A + A_hat) @ np.concatenate([states[idx], foot_locs[idx]]) + (B + B_hat) @ inputs[idx] + (b + b_hat))\n",
    "print(\"nominal derivative:\")\n",
    "print(A @ np.concatenate([states[idx], foot_locs[idx]]) + B @ inputs[idx] + b)"
   ]
  },
  {
   "cell_type": "code",
   "execution_count": 121,
   "metadata": {},
   "outputs": [
    {
     "name": "stdout",
     "output_type": "stream",
     "text": [
      "[-8.59393e-04 -4.89420e-04 -1.38407e-03 -1.09150e-02 -2.26875e-02\n",
      "  1.80164e-03 -3.43485e+00 -3.40890e+00 -5.35370e+00 -9.64697e+01\n",
      " -8.68862e+01 -1.25128e+01]\n",
      "[-8.58900000e-04 -4.90300000e-04 -1.97640000e-03 -1.09290000e-02\n",
      " -2.26900000e-02  1.80200000e-03 -3.17643164e+00 -3.97018978e-01\n",
      " -5.46388953e+00 -2.77084403e+01 -9.66347468e+01 -1.28554063e+01]\n"
     ]
    }
   ],
   "source": [
    "# testing that the y_s and X_s matrices are built correctly\n",
    "idx = 12\n",
    "state = states[idx]\n",
    "state_next = states[idx + 1]\n",
    "input = inputs[idx]\n",
    "foot_loc = foot_locs[idx]\n",
    "next_state_nom = A @ np.concatenate([state, foot_loc]) + B @ input + b\n",
    "\n",
    "print(y_s[idx+1][-2])\n",
    "# print(state_next)\n",
    "# print(state)\n",
    "# print(next_state_nom)\n",
    "print((state_next - state) * 2000 - next_state_nom)"
   ]
  },
  {
   "cell_type": "code",
   "execution_count": 164,
   "metadata": {},
   "outputs": [
    {
     "name": "stdout",
     "output_type": "stream",
     "text": [
      "[ 6.83900000e-04 -2.10700000e-04 -1.25800000e-03  1.42790000e-02\n",
      "  1.48300000e-02  1.49860400e-01  5.14705824e+00  9.75770333e-03\n",
      " -2.52765248e+00  5.35806460e+00  1.02623014e+01  1.01131160e+01]\n"
     ]
    }
   ],
   "source": [
    "print(y_new[-2])"
   ]
  },
  {
   "cell_type": "code",
   "execution_count": 169,
   "metadata": {},
   "outputs": [
    {
     "name": "stdout",
     "output_type": "stream",
     "text": [
      "[ 6.83057e-04 -2.02820e-04 -5.98790e-04  1.43622e-02  1.62250e-02\n",
      "  1.49892e-01  2.48877e-01 -1.60003e+00 -2.13414e+00 -3.13964e+01\n",
      "  1.95284e+02  1.01917e+01]\n"
     ]
    }
   ],
   "source": [
    "print(y_s[99][-2])"
   ]
  },
  {
   "cell_type": "code",
   "execution_count": null,
   "metadata": {},
   "outputs": [],
   "source": []
  }
 ],
 "metadata": {
  "kernelspec": {
   "display_name": "Python 3",
   "language": "python",
   "name": "python3"
  },
  "language_info": {
   "codemirror_mode": {
    "name": "ipython",
    "version": 3
   },
   "file_extension": ".py",
   "mimetype": "text/x-python",
   "name": "python",
   "nbconvert_exporter": "python",
   "pygments_lexer": "ipython3",
   "version": "3.8.10"
  }
 },
 "nbformat": 4,
 "nbformat_minor": 4
}
